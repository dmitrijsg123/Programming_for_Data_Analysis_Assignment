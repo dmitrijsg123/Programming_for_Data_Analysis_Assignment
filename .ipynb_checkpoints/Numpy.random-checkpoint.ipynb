{
 "cells": [
  {
   "cell_type": "markdown",
   "metadata": {},
   "source": [
    "Practical Assignment - Programming for Data Analysis 2018"
   ]
  },
  {
   "cell_type": "markdown",
   "metadata": {},
   "source": [
    "# 1. Overall purpose of the package"
   ]
  },
  {
   "cell_type": "raw",
   "metadata": {},
   "source": [
    "NumPy is a Python library for scientific computing. NumPy stand for Numerical Python. Here is the official description of the library from its website:\n",
    "\n",
    "“NumPy is the fundamental package for scientific computing with Python. It contains among other things:\n",
    "\n",
    "a powerful N-dimensional array object\n",
    "sophisticated (broadcasting) functions\n",
    "tools for integrating C/C++ and Fortran code\n",
    "useful linear algebra, Fourier transform, and random number capabilities\n",
    "Besides its obvious scientific uses, NumPy can also be used as an efficient multi-dimensional container of generic data. Arbitrary data-types can be defined. This allows NumPy to seamlessly and speedily integrate with a wide variety of databases.\n",
    "\n",
    "NumPy is licensed under the BSD license, enabling reuse with few restrictions.”\n",
    "\n",
    "[1]\n",
    "<br>\n",
    "Numpy.random subpackage has the ability to generate randomness of data, shuffle existing data and draw samples based on a specified distribution."
   ]
  },
  {
   "cell_type": "markdown",
   "metadata": {},
   "source": [
    "# 2.1. Simple Random Data"
   ]
  },
  {
   "cell_type": "markdown",
   "metadata": {},
   "source": [
    "# Random.random()\n",
    "Returns random floats in the interval between 0 and 1."
   ]
  },
  {
   "cell_type": "code",
   "execution_count": 6,
   "metadata": {},
   "outputs": [],
   "source": [
    "import numpy as np\n",
    "a = np.random.random() # 1 number -  is nothing specified"
   ]
  },
  {
   "cell_type": "code",
   "execution_count": 7,
   "metadata": {},
   "outputs": [
    {
     "data": {
      "text/plain": [
       "0.37684120408083766"
      ]
     },
     "execution_count": 7,
     "metadata": {},
     "output_type": "execute_result"
    }
   ],
   "source": [
    "a"
   ]
  },
  {
   "cell_type": "code",
   "execution_count": 8,
   "metadata": {},
   "outputs": [],
   "source": [
    "b = np.random.random(3) # array of 3 numbers specified"
   ]
  },
  {
   "cell_type": "code",
   "execution_count": 9,
   "metadata": {},
   "outputs": [
    {
     "data": {
      "text/plain": [
       "array([0.88659391, 0.33111906, 0.1370819 ])"
      ]
     },
     "execution_count": 9,
     "metadata": {},
     "output_type": "execute_result"
    }
   ],
   "source": [
    "b"
   ]
  },
  {
   "cell_type": "code",
   "execution_count": 29,
   "metadata": {},
   "outputs": [],
   "source": [
    "c = np.random.random((3,2)) # array of 3 rows and 2 columns specified"
   ]
  },
  {
   "cell_type": "code",
   "execution_count": 30,
   "metadata": {},
   "outputs": [
    {
     "data": {
      "text/plain": [
       "array([[0.98908417, 0.68075188],\n",
       "       [0.70737277, 0.56644664],\n",
       "       [0.42631481, 0.46453879]])"
      ]
     },
     "execution_count": 30,
     "metadata": {},
     "output_type": "execute_result"
    }
   ],
   "source": [
    "c"
   ]
  },
  {
   "cell_type": "raw",
   "metadata": {},
   "source": [
    "To change the default range of 0 to 1 we can multiply the function by the largest number we want to produce."
   ]
  },
  {
   "cell_type": "code",
   "execution_count": 41,
   "metadata": {},
   "outputs": [],
   "source": [
    "c_50 = 50*c"
   ]
  },
  {
   "cell_type": "code",
   "execution_count": 42,
   "metadata": {},
   "outputs": [
    {
     "data": {
      "text/plain": [
       "array([[49.45420841, 34.03759379],\n",
       "       [35.36863875, 28.32233206],\n",
       "       [21.31574062, 23.22693945]])"
      ]
     },
     "execution_count": 42,
     "metadata": {},
     "output_type": "execute_result"
    }
   ],
   "source": [
    "c_50   # random floats between 0 an 50 are generated"
   ]
  },
  {
   "cell_type": "markdown",
   "metadata": {},
   "source": [
    "# Random.rand()\n",
    "Same as random.random generates random values from 0 to 1 in the specified shape (uniform distribution)"
   ]
  },
  {
   "cell_type": "code",
   "execution_count": 15,
   "metadata": {},
   "outputs": [],
   "source": [
    "d = np.random.rand()  # 1 number -  is nothing specified"
   ]
  },
  {
   "cell_type": "code",
   "execution_count": 16,
   "metadata": {},
   "outputs": [
    {
     "data": {
      "text/plain": [
       "0.0415347216341968"
      ]
     },
     "execution_count": 16,
     "metadata": {},
     "output_type": "execute_result"
    }
   ],
   "source": [
    "d"
   ]
  },
  {
   "cell_type": "code",
   "execution_count": 25,
   "metadata": {},
   "outputs": [],
   "source": [
    "f = np.random.rand(3,2) # array of 3 rows and 2 columns specified"
   ]
  },
  {
   "cell_type": "code",
   "execution_count": 26,
   "metadata": {},
   "outputs": [
    {
     "data": {
      "text/plain": [
       "array([[0.60777773, 0.84775328],\n",
       "       [0.93107525, 0.820833  ],\n",
       "       [0.54808679, 0.0126368 ]])"
      ]
     },
     "execution_count": 26,
     "metadata": {},
     "output_type": "execute_result"
    }
   ],
   "source": [
    "f"
   ]
  },
  {
   "cell_type": "markdown",
   "metadata": {},
   "source": [
    "# Random.randn()\n",
    "Generates random values from -1 to 1 in the specified shape"
   ]
  },
  {
   "cell_type": "code",
   "execution_count": 31,
   "metadata": {},
   "outputs": [],
   "source": [
    "g = np.random.randn(3,2) # array of 3 rows and 2 columns specified"
   ]
  },
  {
   "cell_type": "code",
   "execution_count": 32,
   "metadata": {},
   "outputs": [
    {
     "data": {
      "text/plain": [
       "array([[-0.09905096,  1.16266363],\n",
       "       [ 0.87010246, -1.71769179],\n",
       "       [-0.19237741,  1.19196476]])"
      ]
     },
     "execution_count": 32,
     "metadata": {},
     "output_type": "execute_result"
    }
   ],
   "source": [
    "g"
   ]
  },
  {
   "cell_type": "markdown",
   "metadata": {},
   "source": [
    "# Random.randint()\n",
    "Generates random integers from low (inclusive) to high (exclusive)"
   ]
  },
  {
   "cell_type": "code",
   "execution_count": 33,
   "metadata": {},
   "outputs": [],
   "source": [
    "h = np.random.randint(1,7) # will return a random integer between 1 and 6"
   ]
  },
  {
   "cell_type": "code",
   "execution_count": 34,
   "metadata": {},
   "outputs": [
    {
     "data": {
      "text/plain": [
       "3"
      ]
     },
     "execution_count": 34,
     "metadata": {},
     "output_type": "execute_result"
    }
   ],
   "source": [
    "h"
   ]
  },
  {
   "cell_type": "code",
   "execution_count": 35,
   "metadata": {},
   "outputs": [],
   "source": [
    "i = np.random.randint(1,7,size=3) # size specified - will return a random integer between 1 and 6 three times and will wrap it into an array"
   ]
  },
  {
   "cell_type": "code",
   "execution_count": 36,
   "metadata": {},
   "outputs": [
    {
     "data": {
      "text/plain": [
       "array([5, 5, 2])"
      ]
     },
     "execution_count": 36,
     "metadata": {},
     "output_type": "execute_result"
    }
   ],
   "source": [
    "i"
   ]
  },
  {
   "cell_type": "code",
   "execution_count": 39,
   "metadata": {},
   "outputs": [],
   "source": [
    "j = np.random.randint(1,7,size=(3,2)) # size specified - 2 rows by 3 columns"
   ]
  },
  {
   "cell_type": "code",
   "execution_count": 40,
   "metadata": {},
   "outputs": [
    {
     "data": {
      "text/plain": [
       "array([[6, 3],\n",
       "       [4, 6],\n",
       "       [6, 5]])"
      ]
     },
     "execution_count": 40,
     "metadata": {},
     "output_type": "execute_result"
    }
   ],
   "source": [
    "j"
   ]
  },
  {
   "cell_type": "markdown",
   "metadata": {},
   "source": [
    "# Random.sample() function\n",
    "Generates a particular length list of items chosen from the \n",
    "sequence. Can be a list, tuple, string or set. Random sub-library needs to be imported first."
   ]
  },
  {
   "cell_type": "code",
   "execution_count": 58,
   "metadata": {},
   "outputs": [
    {
     "name": "stdout",
     "output_type": "stream",
     "text": [
      "List output: [1, 93, 63]\n",
      "String output: ['s', 't', 'p', 'e']\n",
      "Set output: ['c', 'b', 'd', 'e', 'a']\n",
      "Tuple output: ['Mercedes', 'BMW', 'VW']\n"
     ]
    }
   ],
   "source": [
    "import random\n",
    "\n",
    "# Print list of random items of length 3 from the given list. \n",
    "numbers = [1, 63, 27, 28, 93, 411]\n",
    "print(\"List output:\", random.sample(numbers, 3)) \n",
    "  \n",
    "# Print list of random items of length 4 from the given string.  \n",
    "string = \"Emptiness\"\n",
    "print(\"String output:\", random.sample(string, 4)) \n",
    "     \n",
    "# Print list of random items from the given set. \n",
    "set = {\"a\", \"b\", \"c\", \"d\", \"e\",\"f\",\"g\",\"h\",\"i\"} \n",
    "print(\"Set output:\", random.sample(set1, 5))\n",
    "\n",
    "# Print list of random items from the given tuple. \n",
    "cars = (\"Mazda\" , \"Honda\" , \"VW\" , \"BMW\" , \"Mercedes\") \n",
    "print(\"Tuple output:\", random.sample(cars, 3)) "
   ]
  },
  {
   "cell_type": "markdown",
   "metadata": {},
   "source": [
    "# Random.choice() function"
   ]
  },
  {
   "cell_type": "markdown",
   "metadata": {},
   "source": [
    "Generates random choice from the existing data, size of an array and probability can be specified"
   ]
  },
  {
   "cell_type": "code",
   "execution_count": 11,
   "metadata": {},
   "outputs": [],
   "source": [
    "import numpy as np\n",
    "# size and probability not specified - 1 item generated, each element has equal probability (4 items - 25% each in that case)\n",
    "cities = [\"Paris\",\"New York\",\"Dublin\",\"London\"]\n",
    "\n",
    "k = np.random.choice(cities)"
   ]
  },
  {
   "cell_type": "code",
   "execution_count": 12,
   "metadata": {},
   "outputs": [
    {
     "data": {
      "text/plain": [
       "'New York'"
      ]
     },
     "execution_count": 12,
     "metadata": {},
     "output_type": "execute_result"
    }
   ],
   "source": [
    "k"
   ]
  },
  {
   "cell_type": "code",
   "execution_count": 15,
   "metadata": {},
   "outputs": [],
   "source": [
    "import numpy as np\n",
    "# size specified as 4 x 4 array, each element has equal probability\n",
    "cities_2 = [\"Paris\",\"New York\",\"Dublin\",\"London\"]\n",
    "\n",
    "l = np.random.choice(cities_2,size=(4,4))"
   ]
  },
  {
   "cell_type": "code",
   "execution_count": 16,
   "metadata": {},
   "outputs": [
    {
     "data": {
      "text/plain": [
       "array([['Dublin', 'Paris', 'London', 'London'],\n",
       "       ['Dublin', 'Paris', 'London', 'London'],\n",
       "       ['London', 'New York', 'Dublin', 'Paris'],\n",
       "       ['Dublin', 'London', 'London', 'Paris']], dtype='<U8')"
      ]
     },
     "execution_count": 16,
     "metadata": {},
     "output_type": "execute_result"
    }
   ],
   "source": [
    "l"
   ]
  },
  {
   "cell_type": "code",
   "execution_count": 17,
   "metadata": {},
   "outputs": [],
   "source": [
    "import numpy as np\n",
    "\n",
    "# size specified as 4 x 4 array, probability specified - 1st element of the list has 100% probability of being chosen\n",
    "cities_3 = [\"Paris\",\"New York\",\"Dublin\",\"London\"]\n",
    "\n",
    "m = np.random.choice(cities_3,size=(4,4),p=[1,0,0,0])"
   ]
  },
  {
   "cell_type": "code",
   "execution_count": 18,
   "metadata": {},
   "outputs": [
    {
     "data": {
      "text/plain": [
       "array([['Paris', 'Paris', 'Paris', 'Paris'],\n",
       "       ['Paris', 'Paris', 'Paris', 'Paris'],\n",
       "       ['Paris', 'Paris', 'Paris', 'Paris'],\n",
       "       ['Paris', 'Paris', 'Paris', 'Paris']], dtype='<U8')"
      ]
     },
     "execution_count": 18,
     "metadata": {},
     "output_type": "execute_result"
    }
   ],
   "source": [
    "m"
   ]
  },
  {
   "cell_type": "code",
   "execution_count": 24,
   "metadata": {},
   "outputs": [],
   "source": [
    "import numpy as np\n",
    "\n",
    "# size specified as 2 x 3 array, probability specified - 1st element of the list - 20%, 2nd-50%,3rd-20%, 4th-10% probability of being chosen\n",
    "cities_3 = [\"Paris\",\"New York\",\"Dublin\",\"London\"]\n",
    "\n",
    "n = np.random.choice(cities_3,size=(2,3),p=[0.2,0.5,0.2,0.1])"
   ]
  },
  {
   "cell_type": "code",
   "execution_count": 25,
   "metadata": {},
   "outputs": [
    {
     "data": {
      "text/plain": [
       "array([['New York', 'New York', 'London'],\n",
       "       ['Dublin', 'Paris', 'Paris']], dtype='<U8')"
      ]
     },
     "execution_count": 25,
     "metadata": {},
     "output_type": "execute_result"
    }
   ],
   "source": [
    "n"
   ]
  },
  {
   "cell_type": "raw",
   "metadata": {},
   "source": [
    "\n",
    "\n",
    "Recommended method for generating samples from the uniform distribution between 0 and 1 in version 1.17:                                          "
   ]
  },
  {
   "cell_type": "code",
   "execution_count": 3,
   "metadata": {},
   "outputs": [
    {
     "data": {
      "text/plain": [
       "array([0.13590207, 0.94048841, 0.3405602 , 0.98319301, 0.41442082])"
      ]
     },
     "execution_count": 3,
     "metadata": {},
     "output_type": "execute_result"
    }
   ],
   "source": [
    "import numpy as np\n",
    "new = np.random.default_rng()  # Create a default Generator.\n",
    "new.random(size=5)  # Generate 5 samples."
   ]
  },
  {
   "cell_type": "markdown",
   "metadata": {},
   "source": [
    " # 2.2. Permutations"
   ]
  },
  {
   "cell_type": "raw",
   "metadata": {},
   "source": [
    "Ther numpy random library has 2 functions that perform permutations, or shuffling of data - shuffle and permutations."
   ]
  },
  {
   "cell_type": "code",
   "execution_count": null,
   "metadata": {},
   "outputs": [],
   "source": [
    "The permutation() method returns a re-arranged array (and leaves the original array un-changed),\n",
    "this method will keep the original array intact and will return a shuffled array, \n",
    "for example x = [1,4,2,8] is the original array and the permutation method will return\n",
    "the rearranged array (lets say [8,4,1,2]).Now,you have two arrays, original array and the rearranged array.\n",
    "\n",
    "The shuffle() method, on the other hand, makes changes to the original array,for example x = [1,4,2,8] \n",
    "is the original array and the shuffle method will return the shuffled array(lets say shuffled array is [8,4,1,2]).\n",
    "Now , the original array itself got changed to the Shuffled array, and you are only left with the shuffled array.\n",
    "\n",
    "References - [3,4]"
   ]
  },
  {
   "cell_type": "markdown",
   "metadata": {},
   "source": [
    "# 1. Shuffle()"
   ]
  },
  {
   "cell_type": "raw",
   "metadata": {},
   "source": [
    "Shuffle function will shuffle contents within an array. We can specify what part of an array we want to be shuffled."
   ]
  },
  {
   "cell_type": "code",
   "execution_count": 48,
   "metadata": {},
   "outputs": [],
   "source": [
    "import numpy as np\n",
    "# we created an array of  rows and 3 columns\n",
    "o = np.random.rand(5,3)"
   ]
  },
  {
   "cell_type": "code",
   "execution_count": 49,
   "metadata": {
    "scrolled": true
   },
   "outputs": [
    {
     "data": {
      "text/plain": [
       "array([[0.98980042, 0.4543471 , 0.19192454],\n",
       "       [0.72929917, 0.55107545, 0.23258982],\n",
       "       [0.55962209, 0.56713159, 0.10063429],\n",
       "       [0.61250784, 0.04554732, 0.31262202],\n",
       "       [0.4669923 , 0.8864709 , 0.51303153]])"
      ]
     },
     "execution_count": 49,
     "metadata": {},
     "output_type": "execute_result"
    }
   ],
   "source": [
    "o"
   ]
  },
  {
   "cell_type": "code",
   "execution_count": 61,
   "metadata": {},
   "outputs": [],
   "source": [
    "# Shuffle function applied - only 1st column will be shuffled, other two stay unchanged\n",
    "np.random.shuffle(o[:,0]) "
   ]
  },
  {
   "cell_type": "code",
   "execution_count": 62,
   "metadata": {},
   "outputs": [
    {
     "data": {
      "text/plain": [
       "array([[0.61250784, 0.8864709 , 0.51303153],\n",
       "       [0.72929917, 0.56713159, 0.10063429],\n",
       "       [0.4669923 , 0.4543471 , 0.19192454],\n",
       "       [0.55107545, 0.04554732, 0.31262202],\n",
       "       [0.98980042, 0.55962209, 0.23258982]])"
      ]
     },
     "execution_count": 62,
     "metadata": {},
     "output_type": "execute_result"
    }
   ],
   "source": [
    "o"
   ]
  },
  {
   "cell_type": "code",
   "execution_count": 59,
   "metadata": {},
   "outputs": [],
   "source": [
    "np.random.shuffle(o) #values within a row are the same, but the order of the rows has changed. \n",
    "# Shuffle function only shuffles an array along the 1st axis of a multi-dimentional array\n"
   ]
  },
  {
   "cell_type": "code",
   "execution_count": 57,
   "metadata": {},
   "outputs": [
    {
     "data": {
      "text/plain": [
       "array([[0.55107545, 0.55962209, 0.23258982],\n",
       "       [0.72929917, 0.8864709 , 0.51303153],\n",
       "       [0.61250784, 0.56713159, 0.10063429],\n",
       "       [0.98980042, 0.04554732, 0.31262202],\n",
       "       [0.4669923 , 0.4543471 , 0.19192454]])"
      ]
     },
     "execution_count": 57,
     "metadata": {},
     "output_type": "execute_result"
    }
   ],
   "source": [
    "o"
   ]
  },
  {
   "cell_type": "code",
   "execution_count": 53,
   "metadata": {},
   "outputs": [
    {
     "data": {
      "text/plain": [
       "array([[0.4669923 , 0.4543471 , 0.19192454],\n",
       "       [0.55962209, 0.55107545, 0.23258982],\n",
       "       [0.61250784, 0.56713159, 0.10063429],\n",
       "       [0.98980042, 0.04554732, 0.31262202],\n",
       "       [0.72929917, 0.8864709 , 0.51303153]])"
      ]
     },
     "execution_count": 53,
     "metadata": {},
     "output_type": "execute_result"
    }
   ],
   "source": [
    "o"
   ]
  },
  {
   "cell_type": "code",
   "execution_count": 54,
   "metadata": {},
   "outputs": [],
   "source": [
    "np.random.shuffle(o[1]) # only 2nd column will be shuffled, other two stay unchanged"
   ]
  },
  {
   "cell_type": "code",
   "execution_count": 55,
   "metadata": {},
   "outputs": [
    {
     "data": {
      "text/plain": [
       "array([[0.4669923 , 0.4543471 , 0.19192454],\n",
       "       [0.55107545, 0.55962209, 0.23258982],\n",
       "       [0.61250784, 0.56713159, 0.10063429],\n",
       "       [0.98980042, 0.04554732, 0.31262202],\n",
       "       [0.72929917, 0.8864709 , 0.51303153]])"
      ]
     },
     "execution_count": 55,
     "metadata": {},
     "output_type": "execute_result"
    }
   ],
   "source": [
    "o"
   ]
  },
  {
   "cell_type": "code",
   "execution_count": null,
   "metadata": {},
   "outputs": [],
   "source": [
    "# Shuffle with strings"
   ]
  },
  {
   "cell_type": "code",
   "execution_count": 65,
   "metadata": {},
   "outputs": [],
   "source": [
    "import random\n",
    "city = [\"New York\", \"Tokyo\", \"Dublin\", \"London\",\"Beijing\",\"Paris\"]\n",
    "np.random.shuffle(city)"
   ]
  },
  {
   "cell_type": "code",
   "execution_count": 66,
   "metadata": {},
   "outputs": [
    {
     "data": {
      "text/plain": [
       "['Dublin', 'London', 'Paris', 'New York', 'Tokyo', 'Beijing']"
      ]
     },
     "execution_count": 66,
     "metadata": {},
     "output_type": "execute_result"
    }
   ],
   "source": [
    "city"
   ]
  },
  {
   "cell_type": "code",
   "execution_count": 70,
   "metadata": {},
   "outputs": [],
   "source": [
    " import random\n",
    "cars = ([[\"VW\", \"BMW\", \"Audi\"],\n",
    "        [\"Mazda\", \"Honda\", \"Suzuki\"],\n",
    "        [\"Citroen\", \"Renault\", \"Peugeot\"]])"
   ]
  },
  {
   "cell_type": "code",
   "execution_count": 71,
   "metadata": {},
   "outputs": [],
   "source": [
    "np.random.shuffle(cars) # only columns shuffled, not rows"
   ]
  },
  {
   "cell_type": "code",
   "execution_count": 73,
   "metadata": {},
   "outputs": [
    {
     "data": {
      "text/plain": [
       "[['Citroen', 'Renault', 'Peugeot'],\n",
       " ['VW', 'BMW', 'Audi'],\n",
       " ['Mazda', 'Honda', 'Suzuki']]"
      ]
     },
     "execution_count": 73,
     "metadata": {},
     "output_type": "execute_result"
    }
   ],
   "source": [
    "cars"
   ]
  },
  {
   "cell_type": "markdown",
   "metadata": {},
   "source": [
    "# 2. Permutations"
   ]
  },
  {
   "cell_type": "raw",
   "metadata": {},
   "source": [
    "The permutation() method returns a re-arranged array and leaves the original array un-changed."
   ]
  },
  {
   "cell_type": "code",
   "execution_count": 79,
   "metadata": {},
   "outputs": [
    {
     "name": "stdout",
     "output_type": "stream",
     "text": [
      "[1 4 5 2 3]\n"
     ]
    }
   ],
   "source": [
    "import numpy as np\n",
    "from numpy import random\n",
    "\n",
    "q = np.array([1, 2, 3, 4, 5])\n",
    "\n",
    "print(random.permutation(q))"
   ]
  },
  {
   "cell_type": "code",
   "execution_count": 80,
   "metadata": {},
   "outputs": [],
   "source": [
    "# permutation of a list of strings\n",
    "city_2 = [\"New York\", \"Tokyo\", \"Dublin\", \"London\",\"Beijing\",\"Paris\"]"
   ]
  },
  {
   "cell_type": "code",
   "execution_count": 81,
   "metadata": {},
   "outputs": [
    {
     "name": "stdout",
     "output_type": "stream",
     "text": [
      "['New York' 'Beijing' 'London' 'Paris' 'Tokyo' 'Dublin']\n"
     ]
    }
   ],
   "source": [
    "print(random.permutation(city_2))"
   ]
  },
  {
   "cell_type": "markdown",
   "metadata": {},
   "source": [
    "# 3. Distributions\n",
    "\n",
    "Probability distributions are a fundamental concept in statistics.\n",
    "They are used both on a theoretical level and a practical level."
   ]
  },
  {
   "cell_type": "markdown",
   "metadata": {},
   "source": [
    "### 1. Uniform distribution - random.uniform() function."
   ]
  },
  {
   "cell_type": "raw",
   "metadata": {},
   "source": [
    "A uniform distribution, sometimes also known as a rectangular distribution.\n",
    "Probability within a stated interval is equal.\n",
    "It has 3 parameters - lower boundary, higher boundary and shape of an array.\n",
    "[5]"
   ]
  },
  {
   "cell_type": "code",
   "execution_count": 102,
   "metadata": {},
   "outputs": [
    {
     "data": {
      "image/png": "[encoded data removed]",
      "text/plain": [
       "<Figure size 432x288 with 1 Axes>"
      ]
     },
     "metadata": {
      "needs_background": "light"
     },
     "output_type": "display_data"
    }
   ],
   "source": [
    "import numpy as np\n",
    "import matplotlib.pyplot as plt\n",
    "import seaborn as sns\n",
    "%matplotlib inline\n",
    "r = np.random.uniform(10,50,6000)  \n",
    "# low and high parameters have been assigned between 10 and 50, they have equal probability of being generated.\n",
    "\n",
    "plt.hist(r)\n",
    "plt.ylabel(\"frequency\")\n",
    "plt.show()"
   ]
  },
  {
   "cell_type": "code",
   "execution_count": 104,
   "metadata": {},
   "outputs": [
    {
     "data": {
      "image/png": "[encoded data removed]",
      "text/plain": [
       "<Figure size 432x288 with 1 Axes>"
      ]
     },
     "metadata": {
      "needs_background": "light"
     },
     "output_type": "display_data"
    }
   ],
   "source": [
    "# Let us plot the same parameters on the line\n",
    "r =  sns.distplot(random.uniform(10,50,6000), hist=False)"
   ]
  },
  {
   "cell_type": "markdown",
   "metadata": {},
   "source": [
    "### 2. Random. normal() function"
   ]
  },
  {
   "cell_type": "raw",
   "metadata": {},
   "source": [
    "It draws samples from a normal (Gaussian) distribution or more commonly called a bell curve"
   ]
  },
  {
   "cell_type": "raw",
   "metadata": {},
   "source": [
    "Takes 3 arguments - 1st is mean or centre of distribution (we'll specify it as 40 in our example below)\n",
    "2nd is standard deviation or spread of data from mean (we ll set it as 10)\n",
    "3rd is shape of resulting array. we ll specify it as (100).\n",
    "The result is an array with random values that collectively have a mean of 40 and a standard deviation of 10."
   ]
  },
  {
   "cell_type": "code",
   "execution_count": 41,
   "metadata": {},
   "outputs": [],
   "source": [
    "s = np.random.normal(40,10,100)"
   ]
  },
  {
   "cell_type": "code",
   "execution_count": 42,
   "metadata": {},
   "outputs": [
    {
     "data": {
      "text/plain": [
       "array([41.91264942, 37.2758183 , 46.21782154, 49.28376353, 57.32401895,\n",
       "       34.21190105, 33.41783965, 23.46934392, 48.58027256, 31.31410991,\n",
       "       38.39758629, 35.73450893, 33.15541197, 35.03816128, 30.04247657,\n",
       "       42.7285992 , 33.75333297, 50.82317859, 47.26703667, 32.59824231,\n",
       "       38.488157  , 45.05940781, 49.59504742, 46.50375261, 32.42316993,\n",
       "       41.72891272, 66.58899908, 36.46840013, 33.14860745, 36.19092255,\n",
       "       51.51570898, 26.35126683, 37.2189436 , 39.08707422, 23.22320106,\n",
       "       56.45213754, 59.77489208, 42.88967846, 41.38715317, 16.58567251,\n",
       "       43.01987552, 31.96875687, 51.03443607, 45.1251966 , 30.71931025,\n",
       "       33.26418864, 56.22345248, 27.53756348, 64.87874294, 43.6317565 ,\n",
       "       32.45950166, 63.30883948, 20.5516307 , 52.53058068, 48.58100442,\n",
       "       46.53988338, 44.95616507, 29.0744431 , 36.80041618, 49.63706154,\n",
       "       46.98607612, 27.572483  , 29.34774306, 47.43793435, 31.52221431,\n",
       "       33.1290347 , 43.41831752, 41.54283348, 41.16584769, 44.83956515,\n",
       "       44.38704969, 38.1835463 , 53.93464364, 29.80188802, 30.03959441,\n",
       "       45.52470483, 37.78659617, 44.23848228, 37.80344613, 51.23816752,\n",
       "       37.70890071, 36.60020623, 28.90399697, 37.03638296, 42.31421944,\n",
       "       28.95285334, 41.98858368, 42.09155156, 41.75963778, 38.79303573,\n",
       "       40.6586879 , 30.98852369, 49.91165128, 37.58269263, 48.49285777,\n",
       "       38.96013616, 37.52899212, 43.2047608 , 55.12822157, 62.36341243])"
      ]
     },
     "execution_count": 42,
     "metadata": {},
     "output_type": "execute_result"
    }
   ],
   "source": [
    "s"
   ]
  },
  {
   "cell_type": "code",
   "execution_count": 101,
   "metadata": {},
   "outputs": [
    {
     "data": {
      "image/png": "[encoded data removed]",
      "text/plain": [
       "<Figure size 432x288 with 1 Axes>"
      ]
     },
     "metadata": {
      "needs_background": "light"
     },
     "output_type": "display_data"
    }
   ],
   "source": [
    "plt.hist(s);"
   ]
  },
  {
   "cell_type": "code",
   "execution_count": 105,
   "metadata": {},
   "outputs": [
    {
     "data": {
      "image/png": "[encoded data removed]",
      "text/plain": [
       "<Figure size 432x288 with 1 Axes>"
      ]
     },
     "metadata": {
      "needs_background": "light"
     },
     "output_type": "display_data"
    }
   ],
   "source": [
    "# Let us plot the same parameters on the line\n",
    "s =  sns.distplot(random.normal(40,10,100), hist=False)"
   ]
  },
  {
   "cell_type": "markdown",
   "metadata": {},
   "source": [
    "### 3. Random.binomial() function."
   ]
  },
  {
   "cell_type": "raw",
   "metadata": {},
   "source": [
    "Random.binomial() function draws samples from a binomial distribution.\n",
    "It describes outcomes of binary scenarios, for example toss of a coin that will always be heads or tails.\n",
    "\n",
    "It has 3 parameters: number of trials, probability of occurence in each one, shape of the returned array.\n",
    "\n",
    "They must meet the following three criteria:\n",
    "1) The number of observations or trials is fixed.\n",
    "2) Each observation or trial is independent, that is, none of your trials have an effect on the probability of the\n",
    "next trial.\n",
    "3) The probability of success is exactly the same from one trial to another. \n",
    "\n",
    "[6]"
   ]
  },
  {
   "cell_type": "code",
   "execution_count": 98,
   "metadata": {},
   "outputs": [
    {
     "data": {
      "image/png": "[encoded data removed]",
      "text/plain": [
       "<Figure size 432x288 with 1 Axes>"
      ]
     },
     "metadata": {
      "needs_background": "light"
     },
     "output_type": "display_data"
    }
   ],
   "source": [
    "import numpy as np\n",
    "import matplotlib.pyplot as plt\n",
    "%matplotlib inline\n",
    "# test - probability of getting heads in a coin toss, tossed 20 times.\n",
    "# Initializing the parameters 'number of trials' and 'probability of success'\n",
    "# 1st parameter - number of trials - 20\n",
    "# 2nd parameter - probability of success - 1/2 = 0.5\n",
    "# test run 1000 times\n",
    "bindist = np.random.binomial(20,0.5,1000)\n",
    "plt.hist(bindist);"
   ]
  },
  {
   "cell_type": "code",
   "execution_count": 100,
   "metadata": {},
   "outputs": [
    {
     "data": {
      "image/png": "[encoded data removed]",
      "text/plain": [
       "<Figure size 432x288 with 1 Axes>"
      ]
     },
     "metadata": {
      "needs_background": "light"
     },
     "output_type": "display_data"
    }
   ],
   "source": [
    "# Let us plot the same parameters on the line \n",
    "bindist=  sns.distplot(random.binomial(n=20, p=0.5, size=1000), hist=False)"
   ]
  },
  {
   "cell_type": "markdown",
   "metadata": {},
   "source": [
    "### 4. Random.gamma() function - draws samples from a Gamma distribution."
   ]
  },
  {
   "cell_type": "raw",
   "metadata": {},
   "source": [
    "Gamma distribution is a right skewed distribution and it is used for continuous variables.\n",
    "This is due to its flexibility in the choice of the shape and scale parameters. \n",
    "The scale parameter determines where the bulk of the observations lies and the shape parameter determines\n",
    "how the distribution will look. \n",
    "\n",
    "[7]"
   ]
  },
  {
   "cell_type": "code",
   "execution_count": 107,
   "metadata": {},
   "outputs": [
    {
     "data": {
      "image/png": "[encoded data removed]",
      "text/plain": [
       "<Figure size 432x288 with 1 Axes>"
      ]
     },
     "metadata": {
      "needs_background": "light"
     },
     "output_type": "display_data"
    }
   ],
   "source": [
    "import numpy as np\n",
    "import matplotlib.pyplot as plt\n",
    "%matplotlib inline\n",
    "\n",
    "shape, scale = 1, 2 # parameters for Gamma distribution\n",
    "t = np.random.gamma(1, 2, 50000)\n",
    "plt.hist(t);"
   ]
  },
  {
   "cell_type": "code",
   "execution_count": 108,
   "metadata": {},
   "outputs": [
    {
     "data": {
      "image/png": "[encoded data removed]",
      "text/plain": [
       "<Figure size 432x288 with 1 Axes>"
      ]
     },
     "metadata": {
      "needs_background": "light"
     },
     "output_type": "display_data"
    }
   ],
   "source": [
    "# Let us plot the same parameters on the line \n",
    "t =  sns.distplot(random.gamma(1,2,50000), hist=False)"
   ]
  },
  {
   "cell_type": "markdown",
   "metadata": {},
   "source": [
    "### 5. Poisson distribution"
   ]
  },
  {
   "cell_type": "raw",
   "metadata": {},
   "source": [
    "Poisson distribution expresses the probability of an event or a given number of events occurring in a fixed interval of time. It can also be used for the number of events in other specified intervals such as distance, area or volume.\n",
    "The graph of the Poisson distribution plots the number of instances the event occurs in a standard interval of time and the probability for each one. For example, how many customers a bank teller would have within 1 hour, or how many meteorites with a size of over 1 meter fall onto Earth every year.\n",
    "The graph would always start from zero (as no event would occur negative amount of times) and go to infinity, each bigger number after the mean (expected) one having increasingly smaller probability.\n",
    "\n",
    "It takes two parameters:\n",
    "lambda - rate or known number of occurences.\n",
    "size - The shape of the returned array.\n",
    "\n",
    "Poisson distribution has few assumptions:\n",
    "- Occurence of one event should not affect occurence of subsequent ones\n",
    "- Rate of event occurence is constant\n",
    "\n",
    "[8]"
   ]
  },
  {
   "cell_type": "code",
   "execution_count": 86,
   "metadata": {},
   "outputs": [],
   "source": [
    "import numpy as np\n",
    "from numpy import random\n",
    "import matplotlib.pyplot as plt\n",
    "%matplotlib inline\n",
    "import seaborn as sns"
   ]
  },
  {
   "cell_type": "raw",
   "metadata": {},
   "source": [
    "In the example below lambda (mean, expected) value is 12, size is 100. The values go beyong 22.5 to the infinity, of course, becoming progressively smaller."
   ]
  },
  {
   "cell_type": "code",
   "execution_count": 87,
   "metadata": {},
   "outputs": [
    {
     "data": {
      "image/png": "[encoded data removed]",
      "text/plain": [
       "<Figure size 432x288 with 1 Axes>"
      ]
     },
     "metadata": {
      "needs_background": "light"
     },
     "output_type": "display_data"
    }
   ],
   "source": [
    "\n",
    "s = np.random.poisson(12,100);\n",
    "plt.hist(s);"
   ]
  },
  {
   "cell_type": "code",
   "execution_count": 93,
   "metadata": {},
   "outputs": [
    {
     "data": {
      "image/png": "[encoded data removed]",
      "text/plain": [
       "<Figure size 432x288 with 1 Axes>"
      ]
     },
     "metadata": {
      "needs_background": "light"
     },
     "output_type": "display_data"
    }
   ],
   "source": [
    "# Let us see the same distribution on a line plot now   \n",
    "# Reference  https://www.w3schools.com/python/numpy_random_poisson.asp\n",
    "\n",
    "s2 = sns.distplot(random.poisson(lam=12, size=100),hist=False)\n",
    "\n",
    "plt.show(s2)\n"
   ]
  },
  {
   "cell_type": "markdown",
   "metadata": {},
   "source": [
    "# 4. Seeds"
   ]
  },
  {
   "cell_type": "raw",
   "metadata": {},
   "source": [
    "Numpy  Random package has the ability to generate what seems like random numbers, it is not a controllable by us process, it is like rolling a dice, every time a different number comes out."
   ]
  },
  {
   "cell_type": "code",
   "execution_count": 2,
   "metadata": {},
   "outputs": [],
   "source": [
    "# Example\n",
    "import numpy as np\n",
    "ran = np.random.randint(1,7) # 1 to 6 number generated once"
   ]
  },
  {
   "cell_type": "code",
   "execution_count": 3,
   "metadata": {},
   "outputs": [
    {
     "data": {
      "text/plain": [
       "5"
      ]
     },
     "execution_count": 3,
     "metadata": {},
     "output_type": "execute_result"
    }
   ],
   "source": [
    "ran  # random number generated, different every time"
   ]
  },
  {
   "cell_type": "code",
   "execution_count": 4,
   "metadata": {},
   "outputs": [
    {
     "data": {
      "text/plain": [
       "array([3, 1, 3])"
      ]
     },
     "execution_count": 4,
     "metadata": {},
     "output_type": "execute_result"
    }
   ],
   "source": [
    "ran_2 = np.random.randint(1,7,size=3)  # 3 random numbers from 1 to 6 \n",
    "ran_2"
   ]
  },
  {
   "cell_type": "code",
   "execution_count": 5,
   "metadata": {},
   "outputs": [
    {
     "name": "stdout",
     "output_type": "stream",
     "text": [
      "7\n"
     ]
    }
   ],
   "source": [
    "# Lets print the sum of ran_2\n",
    "print(np.sum(ran_2))"
   ]
  },
  {
   "cell_type": "raw",
   "metadata": {},
   "source": [
    "Again, it will be different amount every time, process is not controllable."
   ]
  },
  {
   "cell_type": "raw",
   "metadata": {},
   "source": [
    "However, the generated numbers only SEEM random to us (impossible to predict), in reality they are only PSEUDO-RANDOM.\n",
    "We can control the outcome using random.seed() function.\n",
    "That \"controllability\" may be very convenient if we want to share our notebook with somebody else. For example, if we wanted somebody to run our cells across the notebook and get exactly the same result, so that they can reproduce our experience.\n",
    "Random.seed() function will still generate \"random\" numbers, but the ones that are reproducible. [9]"
   ]
  },
  {
   "cell_type": "code",
   "execution_count": 19,
   "metadata": {},
   "outputs": [
    {
     "data": {
      "text/plain": [
       "array([[6, 7, 7],\n",
       "       [8, 1, 5],\n",
       "       [9, 8, 9],\n",
       "       [4, 3, 0],\n",
       "       [3, 5, 0]])"
      ]
     },
     "execution_count": 19,
     "metadata": {},
     "output_type": "execute_result"
    }
   ],
   "source": [
    "# Example 1 - every time we generate - different outcome generated\n",
    "import numpy as np\n",
    "rand = np.random.randint(10,size=(5,3))\n",
    "rand"
   ]
  },
  {
   "cell_type": "code",
   "execution_count": 20,
   "metadata": {},
   "outputs": [
    {
     "data": {
      "text/plain": [
       "array([[5, 0, 3],\n",
       "       [3, 7, 9],\n",
       "       [3, 5, 2],\n",
       "       [4, 7, 6],\n",
       "       [8, 8, 1]])"
      ]
     },
     "execution_count": 20,
     "metadata": {},
     "output_type": "execute_result"
    }
   ],
   "source": [
    "# Example 2 \n",
    "np.random.seed(seed=0) # we add random.seed line to our code\n",
    "# Now every time we generate - SAME outcome generated\n",
    "import numpy as np\n",
    "rand_2 = np.random.randint(10,size=(5,3))\n",
    "rand_2"
   ]
  },
  {
   "cell_type": "code",
   "execution_count": null,
   "metadata": {},
   "outputs": [],
   "source": [
    "# Different option of generating seed function"
   ]
  },
  {
   "cell_type": "code",
   "execution_count": 28,
   "metadata": {},
   "outputs": [
    {
     "name": "stdout",
     "output_type": "stream",
     "text": [
      "8\n"
     ]
    }
   ],
   "source": [
    "# Example 1 \n",
    "# Random 3 numbers between 1 and 6 generated - the sum is different every time\n",
    "import numpy as np\n",
    "x = np.random.default_rng()\n",
    "y = x.integers(1,7,size=3)\n",
    "print(np.sum(y))"
   ]
  },
  {
   "cell_type": "code",
   "execution_count": 38,
   "metadata": {},
   "outputs": [
    {
     "name": "stdout",
     "output_type": "stream",
     "text": [
      "10\n"
     ]
    }
   ],
   "source": [
    "# Example 2\n",
    "\n",
    "import numpy as np\n",
    "x_new = np.random.default_rng(4)  # We added number (number 4 in that example) inside our random.default_rng() function - \n",
    "# generation is \"controllable\" now - the sum is the SAME every time we do the outcome\n",
    "import numpy as np\n",
    "x_new = np.random.default_rng()\n",
    "y_new = x_new.integers(1,7,size=3)\n",
    "print(np.sum(y))"
   ]
  },
  {
   "cell_type": "markdown",
   "metadata": {},
   "source": [
    "# 5. PCG Random Number Generator"
   ]
  },
  {
   "attachments": {
    "pcg%20generator.PNG": {
     "image/png": "[encoded data removed]"
    }
   },
   "cell_type": "markdown",
   "metadata": {},
   "source": [
    "PCG64 generator is the newest family of algorithms for random number generation used in the latest version\n",
    "of Numpy Random 1.19 package.\n",
    "It outperforms the previous algoriths called Mersenne Twister in statistical quality and prediction difficulty.\n",
    "It is also more secure, smaller in code size, much faster in performance and has multiple streams. [12]\n",
    "\n",
    "![pcg%20generator.PNG](attachment:pcg%20generator.PNG)\n"
   ]
  },
  {
   "cell_type": "markdown",
   "metadata": {},
   "source": [
    "# 6. References"
   ]
  },
  {
   "cell_type": "raw",
   "metadata": {},
   "source": [
    "[1] What is NumPy https://www.freecodecamp.org/news/the-ultimate-guide-to-the-numpy-scientific-computing-library-for-python/#introduction-to-numpy\n",
    "<br><br>\n",
    "[2] NumPy Random Explained  https://www.youtube.com/watch?v=uhP7_Of5WX8\n",
    "<br><br>\n",
    "[3] Permutations https://stackoverflow.com/questions/15474159/shuffle-vs-permute-numpy#:~:text=shuffle(x)%20can%20permute%20the,randomly%20along%20the%20first%20axis.&text=permutation(x)%20actually%20returns%20a,original%20data%20is%20not%20changed.\n",
    "<br><br>\n",
    "[4] Random permutations https://www.w3schools.com/python/numpy_random_permutation.asp\n",
    "~<br>\n",
    "[5] Uniform distribution  https://mathworld.wolfram.com/UniformDistribution.html\n",
    "<br><br>\n",
    "[6] Random.binomial() function  https://www.statisticshowto.com/probability-and-statistics/binomial-theorem/binomial-distribution-formula/#whatis\n",
    "    Binomial distribution   https://www.w3schools.com/python/numpy_random_binomial.asp\n",
    "<br><br>\n",
    "[7] NumPy Random Gamma distribution  https://www.youtube.com/watch?v=0WyQKQZtahk\n",
    "<br><br>\n",
    "[8]   Poisson distribution -  https://en.wikipedia.org/wiki/Poisson_distribution<br>\n",
    "Python Poisson distribution -  https://www.youtube.com/watch?v=dGhDzCJryGA<br>\n",
    "Poisson distribution -  https://www.youtube.com/watch?v=BbLfV0wOeyc<br>\n",
    "<br><br>\n",
    "[9] NumPy.seed() function https://www.youtube.com/watch?v=ryvY3RJucag\n",
    "<br><br>\n",
    "[10] SciPy.org - Random sampling  https://docs.scipy.org/doc/numpy-1.15.0/reference/routines.random.html\n",
    "<br><br>\n",
    "[11] NumPy -  Wikipedia https://en.wikipedia.org/wiki/NumPy\n",
    "<br><br>\n",
    "[12] PCG Random Generator  https://www.pcg-random.org/index.html"
   ]
  }
 ],
 "metadata": {
  "kernelspec": {
   "display_name": "Python 3",
   "language": "python",
   "name": "python3"
  },
  "language_info": {
   "codemirror_mode": {
    "name": "ipython",
    "version": 3
   },
   "file_extension": ".py",
   "mimetype": "text/x-python",
   "name": "python",
   "nbconvert_exporter": "python",
   "pygments_lexer": "ipython3",
   "version": "3.8.3"
  }
 },
 "nbformat": 4,
 "nbformat_minor": 4
}
